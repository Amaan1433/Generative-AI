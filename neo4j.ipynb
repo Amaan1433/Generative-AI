{
  "cells": [
    {
      "cell_type": "code",
      "execution_count": null,
      "metadata": {
        "id": "BcrJWM5gbde_",
        "outputId": "95a36e81-5902-40de-c6c8-365cd7c50e2d"
      },
      "outputs": [
        {
          "name": "stdout",
          "output_type": "stream",
          "text": [
            "Requirement already satisfied: neo4j in c:\\users\\amaan\\appdata\\local\\packages\\pythonsoftwarefoundation.python.3.11_qbz5n2kfra8p0\\localcache\\local-packages\\python311\\site-packages (5.23.1)\n",
            "Requirement already satisfied: pytz in c:\\users\\amaan\\appdata\\local\\packages\\pythonsoftwarefoundation.python.3.11_qbz5n2kfra8p0\\localcache\\local-packages\\python311\\site-packages (from neo4j) (2024.1)\n"
          ]
        }
      ],
      "source": [
        "!pip install neo4j"
      ]
    },
    {
      "cell_type": "code",
      "execution_count": null,
      "metadata": {
        "id": "V86wzaFQbdfC",
        "outputId": "0680a395-61db-469b-bcfc-7a34e7924aae"
      },
      "outputs": [
        {
          "name": "stdout",
          "output_type": "stream",
          "text": [
            "Requirement already satisfied: sentence-transformers in c:\\users\\amaan\\appdata\\local\\packages\\pythonsoftwarefoundation.python.3.11_qbz5n2kfra8p0\\localcache\\local-packages\\python311\\site-packages (3.0.1)\n",
            "Requirement already satisfied: transformers<5.0.0,>=4.34.0 in c:\\users\\amaan\\appdata\\local\\packages\\pythonsoftwarefoundation.python.3.11_qbz5n2kfra8p0\\localcache\\local-packages\\python311\\site-packages (from sentence-transformers) (4.42.3)\n",
            "Requirement already satisfied: tqdm in c:\\users\\amaan\\appdata\\local\\packages\\pythonsoftwarefoundation.python.3.11_qbz5n2kfra8p0\\localcache\\local-packages\\python311\\site-packages (from sentence-transformers) (4.66.4)\n",
            "Requirement already satisfied: torch>=1.11.0 in c:\\users\\amaan\\appdata\\local\\packages\\pythonsoftwarefoundation.python.3.11_qbz5n2kfra8p0\\localcache\\local-packages\\python311\\site-packages (from sentence-transformers) (2.3.1)\n",
            "Requirement already satisfied: numpy in c:\\users\\amaan\\appdata\\local\\packages\\pythonsoftwarefoundation.python.3.11_qbz5n2kfra8p0\\localcache\\local-packages\\python311\\site-packages (from sentence-transformers) (1.24.1)\n",
            "Requirement already satisfied: scikit-learn in c:\\users\\amaan\\appdata\\local\\packages\\pythonsoftwarefoundation.python.3.11_qbz5n2kfra8p0\\localcache\\local-packages\\python311\\site-packages (from sentence-transformers) (1.5.1)\n",
            "Requirement already satisfied: scipy in c:\\users\\amaan\\appdata\\local\\packages\\pythonsoftwarefoundation.python.3.11_qbz5n2kfra8p0\\localcache\\local-packages\\python311\\site-packages (from sentence-transformers) (1.14.0)\n",
            "Requirement already satisfied: huggingface-hub>=0.15.1 in c:\\users\\amaan\\appdata\\local\\packages\\pythonsoftwarefoundation.python.3.11_qbz5n2kfra8p0\\localcache\\local-packages\\python311\\site-packages (from sentence-transformers) (0.23.4)\n",
            "Requirement already satisfied: Pillow in c:\\users\\amaan\\appdata\\local\\packages\\pythonsoftwarefoundation.python.3.11_qbz5n2kfra8p0\\localcache\\local-packages\\python311\\site-packages (from sentence-transformers) (10.4.0)\n",
            "Requirement already satisfied: filelock in c:\\users\\amaan\\appdata\\local\\packages\\pythonsoftwarefoundation.python.3.11_qbz5n2kfra8p0\\localcache\\local-packages\\python311\\site-packages (from huggingface-hub>=0.15.1->sentence-transformers) (3.15.4)\n",
            "Requirement already satisfied: fsspec>=2023.5.0 in c:\\users\\amaan\\appdata\\local\\packages\\pythonsoftwarefoundation.python.3.11_qbz5n2kfra8p0\\localcache\\local-packages\\python311\\site-packages (from huggingface-hub>=0.15.1->sentence-transformers) (2024.6.1)\n",
            "Requirement already satisfied: packaging>=20.9 in c:\\users\\amaan\\appdata\\local\\packages\\pythonsoftwarefoundation.python.3.11_qbz5n2kfra8p0\\localcache\\local-packages\\python311\\site-packages (from huggingface-hub>=0.15.1->sentence-transformers) (24.1)\n",
            "Requirement already satisfied: pyyaml>=5.1 in c:\\users\\amaan\\appdata\\local\\packages\\pythonsoftwarefoundation.python.3.11_qbz5n2kfra8p0\\localcache\\local-packages\\python311\\site-packages (from huggingface-hub>=0.15.1->sentence-transformers) (6.0.1)\n",
            "Requirement already satisfied: requests in c:\\users\\amaan\\appdata\\local\\packages\\pythonsoftwarefoundation.python.3.11_qbz5n2kfra8p0\\localcache\\local-packages\\python311\\site-packages (from huggingface-hub>=0.15.1->sentence-transformers) (2.31.0)\n",
            "Requirement already satisfied: typing-extensions>=3.7.4.3 in c:\\users\\amaan\\appdata\\local\\packages\\pythonsoftwarefoundation.python.3.11_qbz5n2kfra8p0\\localcache\\local-packages\\python311\\site-packages (from huggingface-hub>=0.15.1->sentence-transformers) (4.11.0)\n",
            "Requirement already satisfied: sympy in c:\\users\\amaan\\appdata\\local\\packages\\pythonsoftwarefoundation.python.3.11_qbz5n2kfra8p0\\localcache\\local-packages\\python311\\site-packages (from torch>=1.11.0->sentence-transformers) (1.13.0)\n",
            "Requirement already satisfied: networkx in c:\\users\\amaan\\appdata\\local\\packages\\pythonsoftwarefoundation.python.3.11_qbz5n2kfra8p0\\localcache\\local-packages\\python311\\site-packages (from torch>=1.11.0->sentence-transformers) (3.3)\n",
            "Requirement already satisfied: jinja2 in c:\\users\\amaan\\appdata\\local\\packages\\pythonsoftwarefoundation.python.3.11_qbz5n2kfra8p0\\localcache\\local-packages\\python311\\site-packages (from torch>=1.11.0->sentence-transformers) (3.1.4)\n",
            "Requirement already satisfied: mkl<=2021.4.0,>=2021.1.1 in c:\\users\\amaan\\appdata\\local\\packages\\pythonsoftwarefoundation.python.3.11_qbz5n2kfra8p0\\localcache\\local-packages\\python311\\site-packages (from torch>=1.11.0->sentence-transformers) (2021.4.0)\n",
            "Requirement already satisfied: colorama in c:\\users\\amaan\\appdata\\local\\packages\\pythonsoftwarefoundation.python.3.11_qbz5n2kfra8p0\\localcache\\local-packages\\python311\\site-packages (from tqdm->sentence-transformers) (0.4.6)\n",
            "Requirement already satisfied: regex!=2019.12.17 in c:\\users\\amaan\\appdata\\local\\packages\\pythonsoftwarefoundation.python.3.11_qbz5n2kfra8p0\\localcache\\local-packages\\python311\\site-packages (from transformers<5.0.0,>=4.34.0->sentence-transformers) (2024.5.15)\n",
            "Requirement already satisfied: safetensors>=0.4.1 in c:\\users\\amaan\\appdata\\local\\packages\\pythonsoftwarefoundation.python.3.11_qbz5n2kfra8p0\\localcache\\local-packages\\python311\\site-packages (from transformers<5.0.0,>=4.34.0->sentence-transformers) (0.4.3)\n",
            "Requirement already satisfied: tokenizers<0.20,>=0.19 in c:\\users\\amaan\\appdata\\local\\packages\\pythonsoftwarefoundation.python.3.11_qbz5n2kfra8p0\\localcache\\local-packages\\python311\\site-packages (from transformers<5.0.0,>=4.34.0->sentence-transformers) (0.19.1)\n",
            "Requirement already satisfied: joblib>=1.2.0 in c:\\users\\amaan\\appdata\\local\\packages\\pythonsoftwarefoundation.python.3.11_qbz5n2kfra8p0\\localcache\\local-packages\\python311\\site-packages (from scikit-learn->sentence-transformers) (1.4.2)\n",
            "Requirement already satisfied: threadpoolctl>=3.1.0 in c:\\users\\amaan\\appdata\\local\\packages\\pythonsoftwarefoundation.python.3.11_qbz5n2kfra8p0\\localcache\\local-packages\\python311\\site-packages (from scikit-learn->sentence-transformers) (3.5.0)\n",
            "Requirement already satisfied: intel-openmp==2021.* in c:\\users\\amaan\\appdata\\local\\packages\\pythonsoftwarefoundation.python.3.11_qbz5n2kfra8p0\\localcache\\local-packages\\python311\\site-packages (from mkl<=2021.4.0,>=2021.1.1->torch>=1.11.0->sentence-transformers) (2021.4.0)\n",
            "Requirement already satisfied: tbb==2021.* in c:\\users\\amaan\\appdata\\local\\packages\\pythonsoftwarefoundation.python.3.11_qbz5n2kfra8p0\\localcache\\local-packages\\python311\\site-packages (from mkl<=2021.4.0,>=2021.1.1->torch>=1.11.0->sentence-transformers) (2021.13.0)\n",
            "Requirement already satisfied: MarkupSafe>=2.0 in c:\\users\\amaan\\appdata\\local\\packages\\pythonsoftwarefoundation.python.3.11_qbz5n2kfra8p0\\localcache\\local-packages\\python311\\site-packages (from jinja2->torch>=1.11.0->sentence-transformers) (2.1.5)\n",
            "Requirement already satisfied: charset-normalizer<4,>=2 in c:\\users\\amaan\\appdata\\local\\packages\\pythonsoftwarefoundation.python.3.11_qbz5n2kfra8p0\\localcache\\local-packages\\python311\\site-packages (from requests->huggingface-hub>=0.15.1->sentence-transformers) (3.3.2)\n",
            "Requirement already satisfied: idna<4,>=2.5 in c:\\users\\amaan\\appdata\\local\\packages\\pythonsoftwarefoundation.python.3.11_qbz5n2kfra8p0\\localcache\\local-packages\\python311\\site-packages (from requests->huggingface-hub>=0.15.1->sentence-transformers) (3.7)\n",
            "Requirement already satisfied: urllib3<3,>=1.21.1 in c:\\users\\amaan\\appdata\\local\\packages\\pythonsoftwarefoundation.python.3.11_qbz5n2kfra8p0\\localcache\\local-packages\\python311\\site-packages (from requests->huggingface-hub>=0.15.1->sentence-transformers) (2.2.1)\n",
            "Requirement already satisfied: certifi>=2017.4.17 in c:\\users\\amaan\\appdata\\local\\packages\\pythonsoftwarefoundation.python.3.11_qbz5n2kfra8p0\\localcache\\local-packages\\python311\\site-packages (from requests->huggingface-hub>=0.15.1->sentence-transformers) (2024.2.2)\n",
            "Requirement already satisfied: mpmath<1.4,>=1.1.0 in c:\\users\\amaan\\appdata\\local\\packages\\pythonsoftwarefoundation.python.3.11_qbz5n2kfra8p0\\localcache\\local-packages\\python311\\site-packages (from sympy->torch>=1.11.0->sentence-transformers) (1.3.0)\n"
          ]
        }
      ],
      "source": [
        "!pip install sentence-transformers"
      ]
    },
    {
      "cell_type": "code",
      "execution_count": null,
      "metadata": {
        "id": "rolxlwFIbdfD",
        "outputId": "6f18cf02-e164-45c4-8222-1cf3376229e2"
      },
      "outputs": [
        {
          "name": "stdout",
          "output_type": "stream",
          "text": [
            "Collecting graphdatascience\n",
            "  Downloading graphdatascience-1.11-py3-none-any.whl.metadata (7.4 kB)\n",
            "Collecting multimethod<2.0,>=1.0 (from graphdatascience)\n",
            "  Downloading multimethod-1.12-py3-none-any.whl.metadata (9.6 kB)\n",
            "Requirement already satisfied: neo4j<6.0,>=4.4.12 in c:\\users\\amaan\\appdata\\local\\packages\\pythonsoftwarefoundation.python.3.11_qbz5n2kfra8p0\\localcache\\local-packages\\python311\\site-packages (from graphdatascience) (5.23.1)\n",
            "Requirement already satisfied: numpy<2.0 in c:\\users\\amaan\\appdata\\local\\packages\\pythonsoftwarefoundation.python.3.11_qbz5n2kfra8p0\\localcache\\local-packages\\python311\\site-packages (from graphdatascience) (1.24.1)\n",
            "Requirement already satisfied: pandas<3.0,>=1.0 in c:\\users\\amaan\\appdata\\local\\packages\\pythonsoftwarefoundation.python.3.11_qbz5n2kfra8p0\\localcache\\local-packages\\python311\\site-packages (from graphdatascience) (2.2.2)\n",
            "Requirement already satisfied: pyarrow<17.0,>=14.0.1 in c:\\users\\amaan\\appdata\\local\\packages\\pythonsoftwarefoundation.python.3.11_qbz5n2kfra8p0\\localcache\\local-packages\\python311\\site-packages (from graphdatascience) (16.1.0)\n",
            "Collecting textdistance<5.0,>=4.0 (from graphdatascience)\n",
            "  Downloading textdistance-4.6.3-py3-none-any.whl.metadata (18 kB)\n",
            "Requirement already satisfied: tqdm<5.0,>=4.0 in c:\\users\\amaan\\appdata\\local\\packages\\pythonsoftwarefoundation.python.3.11_qbz5n2kfra8p0\\localcache\\local-packages\\python311\\site-packages (from graphdatascience) (4.66.4)\n",
            "Requirement already satisfied: typing-extensions<5.0,>=4.0 in c:\\users\\amaan\\appdata\\local\\packages\\pythonsoftwarefoundation.python.3.11_qbz5n2kfra8p0\\localcache\\local-packages\\python311\\site-packages (from graphdatascience) (4.11.0)\n",
            "Requirement already satisfied: requests in c:\\users\\amaan\\appdata\\local\\packages\\pythonsoftwarefoundation.python.3.11_qbz5n2kfra8p0\\localcache\\local-packages\\python311\\site-packages (from graphdatascience) (2.31.0)\n",
            "Requirement already satisfied: pytz in c:\\users\\amaan\\appdata\\local\\packages\\pythonsoftwarefoundation.python.3.11_qbz5n2kfra8p0\\localcache\\local-packages\\python311\\site-packages (from neo4j<6.0,>=4.4.12->graphdatascience) (2024.1)\n",
            "Requirement already satisfied: python-dateutil>=2.8.2 in c:\\users\\amaan\\appdata\\local\\packages\\pythonsoftwarefoundation.python.3.11_qbz5n2kfra8p0\\localcache\\local-packages\\python311\\site-packages (from pandas<3.0,>=1.0->graphdatascience) (2.9.0.post0)\n",
            "Requirement already satisfied: tzdata>=2022.7 in c:\\users\\amaan\\appdata\\local\\packages\\pythonsoftwarefoundation.python.3.11_qbz5n2kfra8p0\\localcache\\local-packages\\python311\\site-packages (from pandas<3.0,>=1.0->graphdatascience) (2024.1)\n",
            "Requirement already satisfied: colorama in c:\\users\\amaan\\appdata\\local\\packages\\pythonsoftwarefoundation.python.3.11_qbz5n2kfra8p0\\localcache\\local-packages\\python311\\site-packages (from tqdm<5.0,>=4.0->graphdatascience) (0.4.6)\n",
            "Requirement already satisfied: charset-normalizer<4,>=2 in c:\\users\\amaan\\appdata\\local\\packages\\pythonsoftwarefoundation.python.3.11_qbz5n2kfra8p0\\localcache\\local-packages\\python311\\site-packages (from requests->graphdatascience) (3.3.2)\n",
            "Requirement already satisfied: idna<4,>=2.5 in c:\\users\\amaan\\appdata\\local\\packages\\pythonsoftwarefoundation.python.3.11_qbz5n2kfra8p0\\localcache\\local-packages\\python311\\site-packages (from requests->graphdatascience) (3.7)\n",
            "Requirement already satisfied: urllib3<3,>=1.21.1 in c:\\users\\amaan\\appdata\\local\\packages\\pythonsoftwarefoundation.python.3.11_qbz5n2kfra8p0\\localcache\\local-packages\\python311\\site-packages (from requests->graphdatascience) (2.2.1)\n",
            "Requirement already satisfied: certifi>=2017.4.17 in c:\\users\\amaan\\appdata\\local\\packages\\pythonsoftwarefoundation.python.3.11_qbz5n2kfra8p0\\localcache\\local-packages\\python311\\site-packages (from requests->graphdatascience) (2024.2.2)\n",
            "Requirement already satisfied: six>=1.5 in c:\\users\\amaan\\appdata\\local\\packages\\pythonsoftwarefoundation.python.3.11_qbz5n2kfra8p0\\localcache\\local-packages\\python311\\site-packages (from python-dateutil>=2.8.2->pandas<3.0,>=1.0->graphdatascience) (1.16.0)\n",
            "Downloading graphdatascience-1.11-py3-none-any.whl (1.6 MB)\n",
            "   ---------------------------------------- 0.0/1.6 MB ? eta -:--:--\n",
            "   ------------------------- -------------- 1.0/1.6 MB 10.1 MB/s eta 0:00:01\n",
            "   ---------------------------------------- 1.6/1.6 MB 5.9 MB/s eta 0:00:00\n",
            "Downloading multimethod-1.12-py3-none-any.whl (10 kB)\n",
            "Downloading textdistance-4.6.3-py3-none-any.whl (31 kB)\n",
            "Installing collected packages: textdistance, multimethod, graphdatascience\n",
            "Successfully installed graphdatascience-1.11 multimethod-1.12 textdistance-4.6.3\n"
          ]
        }
      ],
      "source": [
        "!pip install graphdatascience"
      ]
    },
    {
      "cell_type": "code",
      "execution_count": null,
      "metadata": {
        "id": "TeZwjht3bdfD",
        "outputId": "3c6ff1f3-007b-42fe-e2fb-def872e59e95"
      },
      "outputs": [
        {
          "name": "stderr",
          "output_type": "stream",
          "text": [
            "C:\\Users\\Amaan\\AppData\\Local\\Packages\\PythonSoftwareFoundation.Python.3.11_qbz5n2kfra8p0\\LocalCache\\local-packages\\Python311\\site-packages\\sentence_transformers\\cross_encoder\\CrossEncoder.py:11: TqdmExperimentalWarning: Using `tqdm.autonotebook.tqdm` in notebook mode. Use `tqdm.tqdm` instead to force console mode (e.g. in jupyter console)\n",
            "  from tqdm.autonotebook import tqdm, trange\n"
          ]
        },
        {
          "name": "stdout",
          "output_type": "stream",
          "text": [
            "WARNING:tensorflow:From C:\\Users\\Amaan\\AppData\\Local\\Packages\\PythonSoftwareFoundation.Python.3.11_qbz5n2kfra8p0\\LocalCache\\local-packages\\Python311\\site-packages\\tf_keras\\src\\losses.py:2976: The name tf.losses.sparse_softmax_cross_entropy is deprecated. Please use tf.compat.v1.losses.sparse_softmax_cross_entropy instead.\n",
            "\n"
          ]
        }
      ],
      "source": [
        "import os\n",
        "import uuid\n",
        "import random\n",
        "import neo4j\n",
        "from sentence_transformers import SentenceTransformer\n",
        "from neo4j import GraphDatabase"
      ]
    },
    {
      "cell_type": "code",
      "execution_count": null,
      "metadata": {
        "id": "81fiqj_7bdfE"
      },
      "outputs": [],
      "source": [
        "model = SentenceTransformer('sentence-transformers/paraphrase-multilingual-MiniLM-L12-v2')"
      ]
    },
    {
      "cell_type": "code",
      "execution_count": null,
      "metadata": {
        "id": "SUccLr67bdfF"
      },
      "outputs": [],
      "source": [
        "folder_path = 'text_files'\n",
        "file_data_dict = {}\n",
        "\n",
        "for filename in os.listdir(folder_path):\n",
        "    if filename.endswith('.txt'):\n",
        "        file_path = os.path.join(folder_path, filename)\n",
        "        with open(file_path, 'r') as file:\n",
        "            content = file.read()\n",
        "            unique_id = int(uuid.uuid4())  # Generate a unique ID\n",
        "            unique_id = unique_id % 1000000000\n",
        "            file_data_dict[unique_id] = {\n",
        "                'filename': filename,\n",
        "                'content': content\n",
        "            }"
      ]
    },
    {
      "cell_type": "code",
      "execution_count": null,
      "metadata": {
        "id": "JuWriNKVbdfG"
      },
      "outputs": [],
      "source": [
        "file_ids = list(file_data_dict.keys())\n",
        "random.shuffle(file_ids)"
      ]
    },
    {
      "cell_type": "code",
      "execution_count": null,
      "metadata": {
        "id": "DSKVMlcjbdfG",
        "outputId": "8f3bfa19-6380-43d6-863f-91f974fac87c"
      },
      "outputs": [
        {
          "name": "stdout",
          "output_type": "stream",
          "text": [
            "{68303731: {'filename': 'data.txt', 'content': 'Artificial intelligence (AI) has evolved rapidly since its inception. Early AI focused on simple tasks and rule-based systems, but advancements in machine learning and neural networks have transformed it. Today, AI can recognize speech, drive cars, and even create art. These advancements are driven by increased computational power, vast data availability, and sophisticated algorithms. As AI continues to evolve, ethical considerations and the potential for widespread societal impact are at the forefront of discussions. The future promises even more integration of AI into daily life, potentially revolutionizing industries and the way we interact with technology.\\n'}, 913707013: {'filename': 'data1.txt', 'content': 'Climate change is one of the most pressing global issues today. Rising temperatures, melting ice caps, and more frequent extreme weather events are just a few manifestations. These changes threaten biodiversity, food security, and human health. Coastal areas are particularly vulnerable to sea-level rise, and small island nations face existential threats. Addressing climate change requires international cooperation, reduction of greenhouse gas emissions, and adaptation strategies. Renewable energy sources, reforestation, and sustainable practices are critical in mitigating its impacts. The urgency of the situation calls for immediate and sustained action from all sectors of society.\\n'}, 329172251: {'filename': 'data10.txt', 'content': 'Physical exercise is essential for maintaining overall health and well-being. Regular activity improves cardiovascular health, strengthens muscles, and enhances flexibility. It also boosts mental health by reducing stress, anxiety, and depression. Exercise releases endorphins, which contribute to a sense of happiness and well-being. Different types of exercise, such as aerobic, strength training, and flexibility exercises, offer various benefits. Incorporating physical activity into daily routines can lead to long-term health improvements and a higher quality of life. Encouraging an active lifestyle from a young age can foster lifelong habits that promote health and wellness.\\n'}, 624085277: {'filename': 'data11.txt', 'content': 'Technology has significantly impacted education, transforming traditional learning methods. Digital tools, online resources, and virtual classrooms have made education more accessible and interactive. Students can now access a wealth of information and collaborate with peers worldwide. Technology enhances personalized learning, allowing students to progress at their own pace. However, it also presents challenges, such as ensuring digital equity and managing screen time. Teachers must adapt to new teaching methods and integrate technology effectively. As technology continues to evolve, its role in education will expand, offering new opportunities for enhancing learning experiences.\\n'}, 799420906: {'filename': 'data12.txt', 'content': \"In today's digital age, cybersecurity is crucial for protecting sensitive information and maintaining privacy. Cyber threats, such as hacking, phishing, and malware, pose significant risks to individuals and organizations. Effective cybersecurity measures include using strong passwords, encrypting data, and implementing multi-factor authentication. Awareness and education about cyber risks are essential for preventing attacks. Governments and businesses must invest in robust cybersecurity infrastructure to safeguard against breaches. As technology advances, so do the tactics of cybercriminals. Continuous vigilance and proactive strategies are necessary to protect digital assets and ensure the security of information systems.\"}, 955084061: {'filename': 'data13.txt', 'content': 'Art plays a vital role in society, reflecting culture, history, and human experiences. It serves as a medium for expression, creativity, and communication. Art can inspire, provoke thought, and evoke emotions, offering new perspectives on the world. It also fosters social cohesion and cultural understanding. Public art, museums, and galleries make art accessible to a broader audience, enriching communities. Art education encourages creativity and critical thinking. In a rapidly changing world, art remains a constant, connecting people across different backgrounds and promoting a shared sense of humanity.\\n'}, 923760653: {'filename': 'data14.txt', 'content': 'Biodiversity is essential for maintaining ecosystem balance and resilience. It encompasses the variety of life forms on Earth, from microorganisms to plants and animals. Healthy ecosystems provide vital services, such as pollination, water purification, and climate regulation. Biodiversity also supports food security and human health. However, human activities, such as deforestation, pollution, and climate change, threaten biodiversity. Conservation efforts, including protected areas and sustainable practices, are crucial for preserving biodiversity. Maintaining diverse ecosystems ensures the stability and functionality of the natural world, benefiting all living organisms.\\n\\n'}, 664475849: {'filename': 'data15.txt', 'content': 'The future of transportation is being shaped by technological advancements and the need for sustainable solutions. Electric vehicles (EVs) are gaining popularity as they reduce emissions and dependence on fossil fuels. Autonomous vehicles promise to enhance safety and efficiency on roads. Innovations in public transportation, such as high-speed trains and smart transit systems, aim to reduce congestion and environmental impact. The development of urban air mobility, including drones and air taxis, could revolutionize short-distance travel. Sustainable transportation solutions are essential for addressing climate change and improving the quality of life in urban areas.'}, 478708217: {'filename': 'data2.txt', 'content': 'The COVID-19 pandemic accelerated the adoption of remote work, transforming the traditional workplace. Companies and employees have discovered the benefits of flexibility, reduced commute times, and the ability to work from anywhere. However, remote work also presents challenges, such as maintaining productivity, ensuring cybersecurity, and managing work-life balance. Organizations are now exploring hybrid models that combine remote and in-office work. As technology continues to improve, remote work is likely to remain a significant component of the modern work environment, offering both opportunities and challenges for businesses and employees alike.'}, 589436211: {'filename': 'data3.txt', 'content': 'Medical technology has seen remarkable advancements in recent years, improving diagnosis, treatment, and patient care. Innovations such as telemedicine, robotic surgery, and personalized medicine are transforming healthcare. Telemedicine has expanded access to healthcare, especially in remote areas, while robotic surgery offers precision and minimally invasive options. Personalized medicine tailors treatments to individual genetic profiles, enhancing efficacy and reducing side effects. Additionally, wearable devices and health apps enable continuous monitoring of health metrics. These technological advancements are revolutionizing the healthcare industry, making it more efficient, effective, and patient-centered.\\n'}, 904676878: {'filename': 'data4.txt', 'content': 'Social media has profoundly impacted society, changing how people communicate, access information, and perceive the world. Platforms like Facebook, Twitter, and Instagram connect individuals across the globe, allowing for instant sharing of ideas and experiences. However, social media also has negative effects, including the spread of misinformation, cyberbullying, and addiction. It influences public opinion, political landscapes, and even mental health. Balancing the benefits and drawbacks of social media is essential. Users must be critical of the information they consume, and platforms need to implement measures to combat harmful content while fostering positive interactions.\\n'}, 234740196: {'filename': 'data5.txt', 'content': 'Renewable energy sources, such as solar, wind, and hydropower, are crucial in addressing the global energy crisis and reducing carbon emissions. Solar power harnesses energy from the sun, providing a sustainable and abundant resource. Wind turbines convert wind energy into electricity, and hydropower utilizes flowing water to generate power. These renewable sources are increasingly cost-effective and scalable. Governments and businesses are investing in renewable energy infrastructure to transition away from fossil fuels. Innovations in energy storage and smart grids further enhance the viability of renewables. Embracing renewable energy is essential for a sustainable and environmentally friendly future.\\n\\n'}, 579357924: {'filename': 'data6.txt', 'content': 'Space exploration has entered a new era with advancements in technology and increasing involvement from private companies. Missions to Mars, lunar exploration, and the search for extraterrestrial life are at the forefront of this exciting frontier. Companies like SpaceX and Blue Origin are developing reusable rockets, significantly reducing the cost of space travel. The potential for mining asteroids and establishing colonies on other planets is being explored. Collaboration between government agencies and private enterprises is driving innovation. The future of space exploration holds the promise of scientific discoveries, economic opportunities, and the possibility of expanding human presence beyond Earth.\\n\\n'}, 69624098: {'filename': 'data7.txt', 'content': 'Mental health awareness is critical for promoting well-being and reducing stigma. Mental health issues, such as depression, anxiety, and stress, affect millions of people worldwide. Raising awareness helps individuals recognize symptoms and seek help. It also encourages supportive environments where people feel comfortable discussing their struggles. Mental health education in schools, workplaces, and communities plays a vital role. Access to mental health services, including counseling and therapy, is essential. Reducing stigma and promoting open conversations about mental health can lead to better outcomes and improved quality of life for those affected.'}, 223363074: {'filename': 'data8.txt', 'content': 'E-commerce has revolutionized the retail industry, offering convenience and accessibility to consumers. The rise of online shopping platforms like Amazon and Alibaba has transformed buying habits. Consumers can now shop from the comfort of their homes, with products delivered directly to their doorsteps. The integration of advanced technologies, such as artificial intelligence and data analytics, has enhanced the shopping experience through personalized recommendations and efficient logistics. E-commerce businesses must adapt to changing consumer preferences, ensuring security and reliability. As technology continues to advance, e-commerce will play an increasingly significant role in the global economy.'}, 306053457: {'filename': 'data9.txt', 'content': 'Education is a cornerstone of society, shaping individuals and communities. It provides knowledge, skills, and values essential for personal development and societal progress. Quality education promotes critical thinking, creativity, and problem-solving abilities. It also fosters social cohesion, equality, and economic growth. Access to education is a fundamental right, and efforts to improve educational systems worldwide are ongoing. Challenges include addressing disparities, integrating technology, and preparing students for future job markets. Lifelong learning and continuous education are becoming increasingly important in a rapidly changing world, ensuring individuals remain adaptable and capable.\\n\\n'}}\n"
          ]
        }
      ],
      "source": [
        "print(file_data_dict)"
      ]
    },
    {
      "cell_type": "code",
      "execution_count": null,
      "metadata": {
        "id": "RoN-Hi8QbdfH"
      },
      "outputs": [],
      "source": [
        "def assign_files_to_names(file_data_dict, file_ids, names_list):\n",
        "    \"\"\"\n",
        "    Assigns files to names in a round-robin fashion.\n",
        "\n",
        "    Args:\n",
        "        file_data_dict (dict): Dictionary where keys are file IDs and values are file data.\n",
        "        file_ids (list): List of file IDs.\n",
        "        names_list (list): List of names to assign files to.\n",
        "\n",
        "    Returns:\n",
        "        dict: A dictionary where keys are names and values are lists of file data with IDs.\n",
        "    \"\"\"\n",
        "    # Initialize the result dictionary with names as keys and empty lists as values\n",
        "    names_dict = {name: [] for name in names_list}\n",
        "\n",
        "    # Assign files to names\n",
        "    for i, file_id in enumerate(file_ids):\n",
        "        name = names_list[i % len(names_list)]  # Use modulo to cycle through names\n",
        "        file_data = file_data_dict[file_id]\n",
        "        # Format the file data with ID first, then filename, and content last\n",
        "        formatted_file_data = {\n",
        "            'id': file_id,\n",
        "            'filename': file_data['filename'],\n",
        "            'content': file_data['content']\n",
        "        }\n",
        "        names_dict[name].append(formatted_file_data)\n",
        "\n",
        "    return names_dict\n"
      ]
    },
    {
      "cell_type": "code",
      "execution_count": null,
      "metadata": {
        "id": "dMxmtTHubdfI",
        "outputId": "ef111cae-1b95-444d-e367-2d13a94d551c"
      },
      "outputs": [
        {
          "name": "stdout",
          "output_type": "stream",
          "text": [
            "{'Amaan': [{'id': 478708217, 'filename': 'data2.txt', 'content': 'The COVID-19 pandemic accelerated the adoption of remote work, transforming the traditional workplace. Companies and employees have discovered the benefits of flexibility, reduced commute times, and the ability to work from anywhere. However, remote work also presents challenges, such as maintaining productivity, ensuring cybersecurity, and managing work-life balance. Organizations are now exploring hybrid models that combine remote and in-office work. As technology continues to improve, remote work is likely to remain a significant component of the modern work environment, offering both opportunities and challenges for businesses and employees alike.'}, {'id': 664475849, 'filename': 'data15.txt', 'content': 'The future of transportation is being shaped by technological advancements and the need for sustainable solutions. Electric vehicles (EVs) are gaining popularity as they reduce emissions and dependence on fossil fuels. Autonomous vehicles promise to enhance safety and efficiency on roads. Innovations in public transportation, such as high-speed trains and smart transit systems, aim to reduce congestion and environmental impact. The development of urban air mobility, including drones and air taxis, could revolutionize short-distance travel. Sustainable transportation solutions are essential for addressing climate change and improving the quality of life in urban areas.'}, {'id': 913707013, 'filename': 'data1.txt', 'content': 'Climate change is one of the most pressing global issues today. Rising temperatures, melting ice caps, and more frequent extreme weather events are just a few manifestations. These changes threaten biodiversity, food security, and human health. Coastal areas are particularly vulnerable to sea-level rise, and small island nations face existential threats. Addressing climate change requires international cooperation, reduction of greenhouse gas emissions, and adaptation strategies. Renewable energy sources, reforestation, and sustainable practices are critical in mitigating its impacts. The urgency of the situation calls for immediate and sustained action from all sectors of society.\\n'}, {'id': 799420906, 'filename': 'data12.txt', 'content': \"In today's digital age, cybersecurity is crucial for protecting sensitive information and maintaining privacy. Cyber threats, such as hacking, phishing, and malware, pose significant risks to individuals and organizations. Effective cybersecurity measures include using strong passwords, encrypting data, and implementing multi-factor authentication. Awareness and education about cyber risks are essential for preventing attacks. Governments and businesses must invest in robust cybersecurity infrastructure to safeguard against breaches. As technology advances, so do the tactics of cybercriminals. Continuous vigilance and proactive strategies are necessary to protect digital assets and ensure the security of information systems.\"}], 'Huzan': [{'id': 624085277, 'filename': 'data11.txt', 'content': 'Technology has significantly impacted education, transforming traditional learning methods. Digital tools, online resources, and virtual classrooms have made education more accessible and interactive. Students can now access a wealth of information and collaborate with peers worldwide. Technology enhances personalized learning, allowing students to progress at their own pace. However, it also presents challenges, such as ensuring digital equity and managing screen time. Teachers must adapt to new teaching methods and integrate technology effectively. As technology continues to evolve, its role in education will expand, offering new opportunities for enhancing learning experiences.\\n'}, {'id': 955084061, 'filename': 'data13.txt', 'content': 'Art plays a vital role in society, reflecting culture, history, and human experiences. It serves as a medium for expression, creativity, and communication. Art can inspire, provoke thought, and evoke emotions, offering new perspectives on the world. It also fosters social cohesion and cultural understanding. Public art, museums, and galleries make art accessible to a broader audience, enriching communities. Art education encourages creativity and critical thinking. In a rapidly changing world, art remains a constant, connecting people across different backgrounds and promoting a shared sense of humanity.\\n'}, {'id': 923760653, 'filename': 'data14.txt', 'content': 'Biodiversity is essential for maintaining ecosystem balance and resilience. It encompasses the variety of life forms on Earth, from microorganisms to plants and animals. Healthy ecosystems provide vital services, such as pollination, water purification, and climate regulation. Biodiversity also supports food security and human health. However, human activities, such as deforestation, pollution, and climate change, threaten biodiversity. Conservation efforts, including protected areas and sustainable practices, are crucial for preserving biodiversity. Maintaining diverse ecosystems ensures the stability and functionality of the natural world, benefiting all living organisms.\\n\\n'}, {'id': 589436211, 'filename': 'data3.txt', 'content': 'Medical technology has seen remarkable advancements in recent years, improving diagnosis, treatment, and patient care. Innovations such as telemedicine, robotic surgery, and personalized medicine are transforming healthcare. Telemedicine has expanded access to healthcare, especially in remote areas, while robotic surgery offers precision and minimally invasive options. Personalized medicine tailors treatments to individual genetic profiles, enhancing efficacy and reducing side effects. Additionally, wearable devices and health apps enable continuous monitoring of health metrics. These technological advancements are revolutionizing the healthcare industry, making it more efficient, effective, and patient-centered.\\n'}], 'Umair': [{'id': 329172251, 'filename': 'data10.txt', 'content': 'Physical exercise is essential for maintaining overall health and well-being. Regular activity improves cardiovascular health, strengthens muscles, and enhances flexibility. It also boosts mental health by reducing stress, anxiety, and depression. Exercise releases endorphins, which contribute to a sense of happiness and well-being. Different types of exercise, such as aerobic, strength training, and flexibility exercises, offer various benefits. Incorporating physical activity into daily routines can lead to long-term health improvements and a higher quality of life. Encouraging an active lifestyle from a young age can foster lifelong habits that promote health and wellness.\\n'}, {'id': 223363074, 'filename': 'data8.txt', 'content': 'E-commerce has revolutionized the retail industry, offering convenience and accessibility to consumers. The rise of online shopping platforms like Amazon and Alibaba has transformed buying habits. Consumers can now shop from the comfort of their homes, with products delivered directly to their doorsteps. The integration of advanced technologies, such as artificial intelligence and data analytics, has enhanced the shopping experience through personalized recommendations and efficient logistics. E-commerce businesses must adapt to changing consumer preferences, ensuring security and reliability. As technology continues to advance, e-commerce will play an increasingly significant role in the global economy.'}, {'id': 68303731, 'filename': 'data.txt', 'content': 'Artificial intelligence (AI) has evolved rapidly since its inception. Early AI focused on simple tasks and rule-based systems, but advancements in machine learning and neural networks have transformed it. Today, AI can recognize speech, drive cars, and even create art. These advancements are driven by increased computational power, vast data availability, and sophisticated algorithms. As AI continues to evolve, ethical considerations and the potential for widespread societal impact are at the forefront of discussions. The future promises even more integration of AI into daily life, potentially revolutionizing industries and the way we interact with technology.\\n'}, {'id': 904676878, 'filename': 'data4.txt', 'content': 'Social media has profoundly impacted society, changing how people communicate, access information, and perceive the world. Platforms like Facebook, Twitter, and Instagram connect individuals across the globe, allowing for instant sharing of ideas and experiences. However, social media also has negative effects, including the spread of misinformation, cyberbullying, and addiction. It influences public opinion, political landscapes, and even mental health. Balancing the benefits and drawbacks of social media is essential. Users must be critical of the information they consume, and platforms need to implement measures to combat harmful content while fostering positive interactions.\\n'}], 'Waleed': [{'id': 579357924, 'filename': 'data6.txt', 'content': 'Space exploration has entered a new era with advancements in technology and increasing involvement from private companies. Missions to Mars, lunar exploration, and the search for extraterrestrial life are at the forefront of this exciting frontier. Companies like SpaceX and Blue Origin are developing reusable rockets, significantly reducing the cost of space travel. The potential for mining asteroids and establishing colonies on other planets is being explored. Collaboration between government agencies and private enterprises is driving innovation. The future of space exploration holds the promise of scientific discoveries, economic opportunities, and the possibility of expanding human presence beyond Earth.\\n\\n'}, {'id': 69624098, 'filename': 'data7.txt', 'content': 'Mental health awareness is critical for promoting well-being and reducing stigma. Mental health issues, such as depression, anxiety, and stress, affect millions of people worldwide. Raising awareness helps individuals recognize symptoms and seek help. It also encourages supportive environments where people feel comfortable discussing their struggles. Mental health education in schools, workplaces, and communities plays a vital role. Access to mental health services, including counseling and therapy, is essential. Reducing stigma and promoting open conversations about mental health can lead to better outcomes and improved quality of life for those affected.'}, {'id': 306053457, 'filename': 'data9.txt', 'content': 'Education is a cornerstone of society, shaping individuals and communities. It provides knowledge, skills, and values essential for personal development and societal progress. Quality education promotes critical thinking, creativity, and problem-solving abilities. It also fosters social cohesion, equality, and economic growth. Access to education is a fundamental right, and efforts to improve educational systems worldwide are ongoing. Challenges include addressing disparities, integrating technology, and preparing students for future job markets. Lifelong learning and continuous education are becoming increasingly important in a rapidly changing world, ensuring individuals remain adaptable and capable.\\n\\n'}, {'id': 234740196, 'filename': 'data5.txt', 'content': 'Renewable energy sources, such as solar, wind, and hydropower, are crucial in addressing the global energy crisis and reducing carbon emissions. Solar power harnesses energy from the sun, providing a sustainable and abundant resource. Wind turbines convert wind energy into electricity, and hydropower utilizes flowing water to generate power. These renewable sources are increasingly cost-effective and scalable. Governments and businesses are investing in renewable energy infrastructure to transition away from fossil fuels. Innovations in energy storage and smart grids further enhance the viability of renewables. Embracing renewable energy is essential for a sustainable and environmentally friendly future.\\n\\n'}]}\n"
          ]
        }
      ],
      "source": [
        "names_list=[\"Amaan\", \"Huzan\", \"Umair\", \"Waleed\"]\n",
        "names_dict = assign_files_to_names(file_data_dict, file_ids, names_list)\n",
        "print(names_dict)"
      ]
    },
    {
      "cell_type": "code",
      "execution_count": null,
      "metadata": {
        "id": "FhgaIX1ZbdfJ"
      },
      "outputs": [],
      "source": [
        "def extract_metadata(names_dict):\n",
        "    \"\"\"Extract metadata from the names_dict.\"\"\"\n",
        "    metadata = {}\n",
        "    for name, paragraphs in names_dict.items():\n",
        "        metadata[name] = {\n",
        "            'name': name,\n",
        "            'file_id': [para['id'] for para in paragraphs], # Access the 'ID' value for each paragraph in the list\n",
        "            'filename': [para['filename'] for para in paragraphs], # Access the 'text' value for each paragraph in the list\n",
        "            'content': [para['content'] for para in paragraphs], # Access the 'text' value for each paragraph in the list# Access the 'text' value for each paragraph in the list           'content': [para['content'] for para in paragraphs], # Access the 'text' value for each paragraph in the list\n",
        "        }\n",
        "    return metadata"
      ]
    },
    {
      "cell_type": "code",
      "execution_count": null,
      "metadata": {
        "id": "-S2IneNLbdfK",
        "outputId": "0f07508d-ce75-4ec2-d911-ea682e0e0b69"
      },
      "outputs": [
        {
          "name": "stdout",
          "output_type": "stream",
          "text": [
            "Amaan: {'name': 'Amaan', 'file_id': [478708217, 664475849, 913707013, 799420906], 'filename': ['data2.txt', 'data15.txt', 'data1.txt', 'data12.txt'], 'content': ['The COVID-19 pandemic accelerated the adoption of remote work, transforming the traditional workplace. Companies and employees have discovered the benefits of flexibility, reduced commute times, and the ability to work from anywhere. However, remote work also presents challenges, such as maintaining productivity, ensuring cybersecurity, and managing work-life balance. Organizations are now exploring hybrid models that combine remote and in-office work. As technology continues to improve, remote work is likely to remain a significant component of the modern work environment, offering both opportunities and challenges for businesses and employees alike.', 'The future of transportation is being shaped by technological advancements and the need for sustainable solutions. Electric vehicles (EVs) are gaining popularity as they reduce emissions and dependence on fossil fuels. Autonomous vehicles promise to enhance safety and efficiency on roads. Innovations in public transportation, such as high-speed trains and smart transit systems, aim to reduce congestion and environmental impact. The development of urban air mobility, including drones and air taxis, could revolutionize short-distance travel. Sustainable transportation solutions are essential for addressing climate change and improving the quality of life in urban areas.', 'Climate change is one of the most pressing global issues today. Rising temperatures, melting ice caps, and more frequent extreme weather events are just a few manifestations. These changes threaten biodiversity, food security, and human health. Coastal areas are particularly vulnerable to sea-level rise, and small island nations face existential threats. Addressing climate change requires international cooperation, reduction of greenhouse gas emissions, and adaptation strategies. Renewable energy sources, reforestation, and sustainable practices are critical in mitigating its impacts. The urgency of the situation calls for immediate and sustained action from all sectors of society.\\n', \"In today's digital age, cybersecurity is crucial for protecting sensitive information and maintaining privacy. Cyber threats, such as hacking, phishing, and malware, pose significant risks to individuals and organizations. Effective cybersecurity measures include using strong passwords, encrypting data, and implementing multi-factor authentication. Awareness and education about cyber risks are essential for preventing attacks. Governments and businesses must invest in robust cybersecurity infrastructure to safeguard against breaches. As technology advances, so do the tactics of cybercriminals. Continuous vigilance and proactive strategies are necessary to protect digital assets and ensure the security of information systems.\"]}\n",
            "\n",
            "Huzan: {'name': 'Huzan', 'file_id': [624085277, 955084061, 923760653, 589436211], 'filename': ['data11.txt', 'data13.txt', 'data14.txt', 'data3.txt'], 'content': ['Technology has significantly impacted education, transforming traditional learning methods. Digital tools, online resources, and virtual classrooms have made education more accessible and interactive. Students can now access a wealth of information and collaborate with peers worldwide. Technology enhances personalized learning, allowing students to progress at their own pace. However, it also presents challenges, such as ensuring digital equity and managing screen time. Teachers must adapt to new teaching methods and integrate technology effectively. As technology continues to evolve, its role in education will expand, offering new opportunities for enhancing learning experiences.\\n', 'Art plays a vital role in society, reflecting culture, history, and human experiences. It serves as a medium for expression, creativity, and communication. Art can inspire, provoke thought, and evoke emotions, offering new perspectives on the world. It also fosters social cohesion and cultural understanding. Public art, museums, and galleries make art accessible to a broader audience, enriching communities. Art education encourages creativity and critical thinking. In a rapidly changing world, art remains a constant, connecting people across different backgrounds and promoting a shared sense of humanity.\\n', 'Biodiversity is essential for maintaining ecosystem balance and resilience. It encompasses the variety of life forms on Earth, from microorganisms to plants and animals. Healthy ecosystems provide vital services, such as pollination, water purification, and climate regulation. Biodiversity also supports food security and human health. However, human activities, such as deforestation, pollution, and climate change, threaten biodiversity. Conservation efforts, including protected areas and sustainable practices, are crucial for preserving biodiversity. Maintaining diverse ecosystems ensures the stability and functionality of the natural world, benefiting all living organisms.\\n\\n', 'Medical technology has seen remarkable advancements in recent years, improving diagnosis, treatment, and patient care. Innovations such as telemedicine, robotic surgery, and personalized medicine are transforming healthcare. Telemedicine has expanded access to healthcare, especially in remote areas, while robotic surgery offers precision and minimally invasive options. Personalized medicine tailors treatments to individual genetic profiles, enhancing efficacy and reducing side effects. Additionally, wearable devices and health apps enable continuous monitoring of health metrics. These technological advancements are revolutionizing the healthcare industry, making it more efficient, effective, and patient-centered.\\n']}\n",
            "\n",
            "Umair: {'name': 'Umair', 'file_id': [329172251, 223363074, 68303731, 904676878], 'filename': ['data10.txt', 'data8.txt', 'data.txt', 'data4.txt'], 'content': ['Physical exercise is essential for maintaining overall health and well-being. Regular activity improves cardiovascular health, strengthens muscles, and enhances flexibility. It also boosts mental health by reducing stress, anxiety, and depression. Exercise releases endorphins, which contribute to a sense of happiness and well-being. Different types of exercise, such as aerobic, strength training, and flexibility exercises, offer various benefits. Incorporating physical activity into daily routines can lead to long-term health improvements and a higher quality of life. Encouraging an active lifestyle from a young age can foster lifelong habits that promote health and wellness.\\n', 'E-commerce has revolutionized the retail industry, offering convenience and accessibility to consumers. The rise of online shopping platforms like Amazon and Alibaba has transformed buying habits. Consumers can now shop from the comfort of their homes, with products delivered directly to their doorsteps. The integration of advanced technologies, such as artificial intelligence and data analytics, has enhanced the shopping experience through personalized recommendations and efficient logistics. E-commerce businesses must adapt to changing consumer preferences, ensuring security and reliability. As technology continues to advance, e-commerce will play an increasingly significant role in the global economy.', 'Artificial intelligence (AI) has evolved rapidly since its inception. Early AI focused on simple tasks and rule-based systems, but advancements in machine learning and neural networks have transformed it. Today, AI can recognize speech, drive cars, and even create art. These advancements are driven by increased computational power, vast data availability, and sophisticated algorithms. As AI continues to evolve, ethical considerations and the potential for widespread societal impact are at the forefront of discussions. The future promises even more integration of AI into daily life, potentially revolutionizing industries and the way we interact with technology.\\n', 'Social media has profoundly impacted society, changing how people communicate, access information, and perceive the world. Platforms like Facebook, Twitter, and Instagram connect individuals across the globe, allowing for instant sharing of ideas and experiences. However, social media also has negative effects, including the spread of misinformation, cyberbullying, and addiction. It influences public opinion, political landscapes, and even mental health. Balancing the benefits and drawbacks of social media is essential. Users must be critical of the information they consume, and platforms need to implement measures to combat harmful content while fostering positive interactions.\\n']}\n",
            "\n",
            "Waleed: {'name': 'Waleed', 'file_id': [579357924, 69624098, 306053457, 234740196], 'filename': ['data6.txt', 'data7.txt', 'data9.txt', 'data5.txt'], 'content': ['Space exploration has entered a new era with advancements in technology and increasing involvement from private companies. Missions to Mars, lunar exploration, and the search for extraterrestrial life are at the forefront of this exciting frontier. Companies like SpaceX and Blue Origin are developing reusable rockets, significantly reducing the cost of space travel. The potential for mining asteroids and establishing colonies on other planets is being explored. Collaboration between government agencies and private enterprises is driving innovation. The future of space exploration holds the promise of scientific discoveries, economic opportunities, and the possibility of expanding human presence beyond Earth.\\n\\n', 'Mental health awareness is critical for promoting well-being and reducing stigma. Mental health issues, such as depression, anxiety, and stress, affect millions of people worldwide. Raising awareness helps individuals recognize symptoms and seek help. It also encourages supportive environments where people feel comfortable discussing their struggles. Mental health education in schools, workplaces, and communities plays a vital role. Access to mental health services, including counseling and therapy, is essential. Reducing stigma and promoting open conversations about mental health can lead to better outcomes and improved quality of life for those affected.', 'Education is a cornerstone of society, shaping individuals and communities. It provides knowledge, skills, and values essential for personal development and societal progress. Quality education promotes critical thinking, creativity, and problem-solving abilities. It also fosters social cohesion, equality, and economic growth. Access to education is a fundamental right, and efforts to improve educational systems worldwide are ongoing. Challenges include addressing disparities, integrating technology, and preparing students for future job markets. Lifelong learning and continuous education are becoming increasingly important in a rapidly changing world, ensuring individuals remain adaptable and capable.\\n\\n', 'Renewable energy sources, such as solar, wind, and hydropower, are crucial in addressing the global energy crisis and reducing carbon emissions. Solar power harnesses energy from the sun, providing a sustainable and abundant resource. Wind turbines convert wind energy into electricity, and hydropower utilizes flowing water to generate power. These renewable sources are increasingly cost-effective and scalable. Governments and businesses are investing in renewable energy infrastructure to transition away from fossil fuels. Innovations in energy storage and smart grids further enhance the viability of renewables. Embracing renewable energy is essential for a sustainable and environmentally friendly future.\\n\\n']}\n",
            "\n"
          ]
        }
      ],
      "source": [
        "metadata = extract_metadata(names_dict)\n",
        "for key, value in metadata.items():\n",
        "    print(f\"{key}: {value}\\n\")"
      ]
    },
    {
      "cell_type": "code",
      "execution_count": null,
      "metadata": {
        "id": "wHnam6nkbdfL",
        "outputId": "d454f2ff-2de5-4d15-ddd2-c6ab70b2f1d5"
      },
      "outputs": [
        {
          "name": "stdout",
          "output_type": "stream",
          "text": [
            "<neo4j._sync.driver.BoltDriver object at 0x0000025BD8D51C50>\n"
          ]
        }
      ],
      "source": [
        "uri = \"bolt://localhost:7687\"\n",
        "username = \"neo4j\"\n",
        "password = \"12345678\"\n",
        "\n",
        "driver = GraphDatabase.driver(uri, auth=(username, password))\n",
        "print(driver)"
      ]
    },
    {
      "cell_type": "code",
      "execution_count": null,
      "metadata": {
        "id": "0uN1j9P0bdfM"
      },
      "outputs": [],
      "source": [
        "def delete_all_nodes(tx):\n",
        "    tx.run(\"MATCH (n) DETACH DELETE n\")\n",
        "\n",
        "with driver.session() as session:\n",
        "    session.execute_write(delete_all_nodes)\n"
      ]
    },
    {
      "cell_type": "code",
      "execution_count": null,
      "metadata": {
        "id": "FbbirpJ2bdfN",
        "outputId": "8b095f53-7542-4107-8967-a221594c2d67"
      },
      "outputs": [
        {
          "name": "stdout",
          "output_type": "stream",
          "text": [
            "<class 'numpy.ndarray'>\n"
          ]
        }
      ],
      "source": [
        "vector = model.encode(content)\n",
        "print(type(vector))"
      ]
    },
    {
      "cell_type": "code",
      "execution_count": null,
      "metadata": {
        "id": "Qny_6bFDbdfP"
      },
      "outputs": [],
      "source": [
        "def create_person_and_files(tx, person_data):\n",
        "    # Create person node\n",
        "    tx.run(\"\"\"\n",
        "        MERGE (p:Person {name: $name})\n",
        "    \"\"\", name=person_data['name'])\n",
        "\n",
        "    # Create file nodes and relationships\n",
        "    tx.run(\"\"\"\n",
        "        UNWIND $files AS file\n",
        "        MERGE (f:File {file_id: file.file_id, filename: file.filename, name: $name})\n",
        "        WITH f,file\n",
        "        MATCH (p:Person {name: $name})\n",
        "        MERGE (p)-[:HAS_FILE]->(f)\n",
        "        SET f.content = file.content\n",
        "    \"\"\", name=person_data['name'], files=[\n",
        "        {\"file_id\": file_id, \"filename\": filename, \"content\": content}\n",
        "        for file_id, filename, content in zip(person_data['file_id'], person_data['filename'], person_data['content'])\n",
        "    ])\n",
        "\n",
        "\n",
        "# Usage example (assuming you have your driver and metadata)\n",
        "# load_metadata_to_db(driver, metadata)"
      ]
    },
    {
      "cell_type": "code",
      "execution_count": null,
      "metadata": {
        "id": "JS-9EQtMbdfQ"
      },
      "outputs": [],
      "source": [
        "def load_metadata_to_db(file_data_dict):\n",
        "    with driver.session() as session:\n",
        "        for person_data in metadata.values():\n",
        "            session.execute_write(create_person_and_files, person_data)\n"
      ]
    },
    {
      "cell_type": "code",
      "execution_count": null,
      "metadata": {
        "id": "Py7cWs3BbdfQ",
        "outputId": "b57566e1-69a9-4c00-8f62-ce6f4dccfc07"
      },
      "outputs": [
        {
          "name": "stderr",
          "output_type": "stream",
          "text": [
            "Failed to write data to connection IPv4Address(('localhost', 7687)) (ResolvedIPv4Address(('127.0.0.1', 7687)))\n",
            "Transaction failed and will be retried in 1.1688901351012955s (Failed to write data to connection IPv4Address(('localhost', 7687)) (ResolvedIPv4Address(('127.0.0.1', 7687))))\n"
          ]
        }
      ],
      "source": [
        "load_metadata_to_db(metadata)"
      ]
    },
    {
      "cell_type": "code",
      "execution_count": null,
      "metadata": {
        "id": "5ysJaEBKbdfR"
      },
      "outputs": [],
      "source": [
        "query = \"art\"\n",
        "query_vector = model.encode(query)"
      ]
    },
    {
      "cell_type": "code",
      "execution_count": null,
      "metadata": {
        "id": "_QHblNYUbdfQ",
        "outputId": "e536959b-1230-4114-e2d6-06b8f3575598"
      },
      "outputs": [
        {
          "name": "stdout",
          "output_type": "stream",
          "text": [
            "Name: Amaan\n",
            "Filename: data2.txt\n",
            "File ID: 478708217\n",
            "Name: Amaan\n",
            "Filename: data15.txt\n",
            "File ID: 664475849\n",
            "Name: Amaan\n",
            "Filename: data1.txt\n",
            "File ID: 913707013\n",
            "Name: Amaan\n",
            "Filename: data12.txt\n",
            "File ID: 799420906\n",
            "Name: Huzan\n",
            "Filename: data11.txt\n",
            "File ID: 624085277\n",
            "Name: Huzan\n",
            "Filename: data13.txt\n",
            "File ID: 955084061\n",
            "Name: Huzan\n",
            "Filename: data14.txt\n",
            "File ID: 923760653\n",
            "Name: Huzan\n",
            "Filename: data3.txt\n",
            "File ID: 589436211\n",
            "Name: Umair\n",
            "Filename: data10.txt\n",
            "File ID: 329172251\n",
            "Name: Umair\n",
            "Filename: data8.txt\n",
            "File ID: 223363074\n",
            "Name: Umair\n",
            "Filename: data.txt\n",
            "File ID: 68303731\n",
            "Name: Umair\n",
            "Filename: data4.txt\n",
            "File ID: 904676878\n",
            "Name: Waleed\n",
            "Filename: data6.txt\n",
            "File ID: 579357924\n",
            "Name: Waleed\n",
            "Filename: data7.txt\n",
            "File ID: 69624098\n",
            "Name: Waleed\n",
            "Filename: data9.txt\n",
            "File ID: 306053457\n",
            "Name: Waleed\n",
            "Filename: data5.txt\n",
            "File ID: 234740196\n"
          ]
        }
      ],
      "source": [
        "def run_query(tx):\n",
        "    result = tx.run(\"\"\"\n",
        "        MATCH (n:File)\n",
        "        RETURN n.name AS name, n.filename AS filename, n.file_id AS file_id\n",
        "    \"\"\")\n",
        "    return list(result)\n",
        "\n",
        "def execute_query(driver):\n",
        "    with driver.session() as session:\n",
        "        result = session.execute_read(run_query)\n",
        "        for record in result:\n",
        "            print(f\"Name: {record['name']}\")\n",
        "            print(f\"Filename: {record['filename']}\")\n",
        "            print(f\"File ID: {record['file_id']}\")\n",
        "        return result\n",
        "\n",
        "result = execute_query(driver)\n"
      ]
    },
    {
      "cell_type": "code",
      "execution_count": null,
      "metadata": {
        "id": "VHGLcwqDbdfR",
        "outputId": "f53ab3b0-4374-4d79-fef4-f75071b26344"
      },
      "outputs": [
        {
          "name": "stdout",
          "output_type": "stream",
          "text": [
            "Name: Amaan\n",
            "Filename: data2.txt\n",
            "File ID: 478708217\n",
            "Name: Amaan\n",
            "Filename: data15.txt\n",
            "File ID: 664475849\n",
            "Name: Amaan\n",
            "Filename: data1.txt\n",
            "File ID: 913707013\n",
            "Name: Amaan\n",
            "Filename: data12.txt\n",
            "File ID: 799420906\n"
          ]
        },
        {
          "data": {
            "text/plain": [
              "[<Record name='Amaan' filename='data2.txt' file_id=478708217>,\n",
              " <Record name='Amaan' filename='data15.txt' file_id=664475849>,\n",
              " <Record name='Amaan' filename='data1.txt' file_id=913707013>,\n",
              " <Record name='Amaan' filename='data12.txt' file_id=799420906>]"
            ]
          },
          "execution_count": 36,
          "metadata": {},
          "output_type": "execute_result"
        }
      ],
      "source": [
        "\n",
        "def run_query(tx):\n",
        "    result = tx.run(\"\"\"\n",
        "        MATCH (n:File {name: 'Amaan'})\n",
        "        RETURN n.name AS name, n.filename AS filename, n.file_id AS file_id\n",
        "    \"\"\")\n",
        "    return list(result)\n",
        "\n",
        "def execute_query(driver):\n",
        "    with driver.session() as session:\n",
        "        result = session.execute_read(run_query)\n",
        "        for record in result:\n",
        "            print(f\"Name: {record['name']}\")\n",
        "            print(f\"Filename: {record['filename']}\")\n",
        "            print(f\"File ID: {record['file_id']}\")\n",
        "        return result\n",
        "\n",
        "execute_query(driver)\n"
      ]
    },
    {
      "cell_type": "code",
      "execution_count": null,
      "metadata": {
        "id": "c4U17a5PbdfP",
        "outputId": "8fac3728-2fff-494a-acc4-ada76cd63855"
      },
      "outputs": [
        {
          "ename": "TypeError",
          "evalue": "'NoneType' object is not iterable",
          "output_type": "error",
          "traceback": [
            "\u001b[1;31m---------------------------------------------------------------------------\u001b[0m",
            "\u001b[1;31mTypeError\u001b[0m                                 Traceback (most recent call last)",
            "Cell \u001b[1;32mIn[19], line 17\u001b[0m\n\u001b[0;32m     14\u001b[0m             \u001b[38;5;28mprint\u001b[39m(\u001b[38;5;124mf\u001b[39m\u001b[38;5;124m\"\u001b[39m\u001b[38;5;124mFile ID: \u001b[39m\u001b[38;5;132;01m{\u001b[39;00mrecord[\u001b[38;5;124m'\u001b[39m\u001b[38;5;124mfile_id\u001b[39m\u001b[38;5;124m'\u001b[39m]\u001b[38;5;132;01m}\u001b[39;00m\u001b[38;5;124m\"\u001b[39m)\n\u001b[0;32m     15\u001b[0m         \u001b[38;5;28;01mreturn\u001b[39;00m result\n\u001b[1;32m---> 17\u001b[0m result \u001b[38;5;241m=\u001b[39m \u001b[43mexecute_query\u001b[49m\u001b[43m(\u001b[49m\u001b[43mdriver\u001b[49m\u001b[43m)\u001b[49m\n",
            "Cell \u001b[1;32mIn[19], line 11\u001b[0m, in \u001b[0;36mexecute_query\u001b[1;34m(driver)\u001b[0m\n\u001b[0;32m      9\u001b[0m \u001b[38;5;28;01mwith\u001b[39;00m driver\u001b[38;5;241m.\u001b[39msession() \u001b[38;5;28;01mas\u001b[39;00m session:\n\u001b[0;32m     10\u001b[0m     result \u001b[38;5;241m=\u001b[39m session\u001b[38;5;241m.\u001b[39mexecute_read(run_query)\n\u001b[1;32m---> 11\u001b[0m \u001b[43m    \u001b[49m\u001b[38;5;28;43;01mfor\u001b[39;49;00m\u001b[43m \u001b[49m\u001b[43mrecord\u001b[49m\u001b[43m \u001b[49m\u001b[38;5;129;43;01min\u001b[39;49;00m\u001b[43m \u001b[49m\u001b[43mresult\u001b[49m\u001b[43m:\u001b[49m\n\u001b[0;32m     12\u001b[0m \u001b[43m        \u001b[49m\u001b[38;5;28;43mprint\u001b[39;49m\u001b[43m(\u001b[49m\u001b[38;5;124;43mf\u001b[39;49m\u001b[38;5;124;43m\"\u001b[39;49m\u001b[38;5;124;43mName: \u001b[39;49m\u001b[38;5;132;43;01m{\u001b[39;49;00m\u001b[43mrecord\u001b[49m\u001b[43m[\u001b[49m\u001b[38;5;124;43m'\u001b[39;49m\u001b[38;5;124;43mname\u001b[39;49m\u001b[38;5;124;43m'\u001b[39;49m\u001b[43m]\u001b[49m\u001b[38;5;132;43;01m}\u001b[39;49;00m\u001b[38;5;124;43m\"\u001b[39;49m\u001b[43m)\u001b[49m\n\u001b[0;32m     13\u001b[0m \u001b[43m        \u001b[49m\u001b[38;5;28;43mprint\u001b[39;49m\u001b[43m(\u001b[49m\u001b[38;5;124;43mf\u001b[39;49m\u001b[38;5;124;43m\"\u001b[39;49m\u001b[38;5;124;43mFilename: \u001b[39;49m\u001b[38;5;132;43;01m{\u001b[39;49;00m\u001b[43mrecord\u001b[49m\u001b[43m[\u001b[49m\u001b[38;5;124;43m'\u001b[39;49m\u001b[38;5;124;43mfilename\u001b[39;49m\u001b[38;5;124;43m'\u001b[39;49m\u001b[43m]\u001b[49m\u001b[38;5;132;43;01m}\u001b[39;49;00m\u001b[38;5;124;43m\"\u001b[39;49m\u001b[43m)\u001b[49m\n",
            "\u001b[1;31mTypeError\u001b[0m: 'NoneType' object is not iterable"
          ]
        }
      ],
      "source": [
        "def run_query(tx):\n",
        "    tx.run(\"\"\"\n",
        "        MATCH (p:File)-[r:HAS_FILE]->(f:File)\n",
        "        WHERE f.content CONTAINS \"artificial intelligence\"\n",
        "        RETURN p, r, f\n",
        "    \"\"\")\n",
        "\n",
        "def execute_query(driver):\n",
        "    with driver.session() as session:\n",
        "        result = session.execute_read(run_query)\n",
        "        for record in result:\n",
        "            print(f\"Name: {record['name']}\")\n",
        "            print(f\"Filename: {record['filename']}\")\n",
        "            print(f\"File ID: {record['file_id']}\")\n",
        "        return result\n",
        "\n",
        "result = execute_query(driver)"
      ]
    },
    {
      "cell_type": "code",
      "execution_count": null,
      "metadata": {
        "id": "HfjuTAaCbdfR",
        "outputId": "179dac00-e459-494f-cb32-6ee09998e9b0"
      },
      "outputs": [
        {
          "name": "stdout",
          "output_type": "stream",
          "text": [
            "Item properties: {'content': 'The COVID-19 pandemic accelerated the adoption of remote work, transforming the traditional workplace. Companies and employees have discovered the benefits of flexibility, reduced commute times, and the ability to work from anywhere. However, remote work also presents challenges, such as maintaining productivity, ensuring cybersecurity, and managing work-life balance. Organizations are now exploring hybrid models that combine remote and in-office work. As technology continues to improve, remote work is likely to remain a significant component of the modern work environment, offering both opportunities and challenges for businesses and employees alike.', 'file_id': 478708217, 'name': 'Amaan', 'filename': 'data2.txt'}, Cosine Similarity: None\n",
            "Item properties: {'content': 'The future of transportation is being shaped by technological advancements and the need for sustainable solutions. Electric vehicles (EVs) are gaining popularity as they reduce emissions and dependence on fossil fuels. Autonomous vehicles promise to enhance safety and efficiency on roads. Innovations in public transportation, such as high-speed trains and smart transit systems, aim to reduce congestion and environmental impact. The development of urban air mobility, including drones and air taxis, could revolutionize short-distance travel. Sustainable transportation solutions are essential for addressing climate change and improving the quality of life in urban areas.', 'file_id': 664475849, 'name': 'Amaan', 'filename': 'data15.txt'}, Cosine Similarity: None\n",
            "Item properties: {'content': 'Climate change is one of the most pressing global issues today. Rising temperatures, melting ice caps, and more frequent extreme weather events are just a few manifestations. These changes threaten biodiversity, food security, and human health. Coastal areas are particularly vulnerable to sea-level rise, and small island nations face existential threats. Addressing climate change requires international cooperation, reduction of greenhouse gas emissions, and adaptation strategies. Renewable energy sources, reforestation, and sustainable practices are critical in mitigating its impacts. The urgency of the situation calls for immediate and sustained action from all sectors of society.\\n', 'file_id': 913707013, 'name': 'Amaan', 'filename': 'data1.txt'}, Cosine Similarity: None\n",
            "Item properties: {'content': \"In today's digital age, cybersecurity is crucial for protecting sensitive information and maintaining privacy. Cyber threats, such as hacking, phishing, and malware, pose significant risks to individuals and organizations. Effective cybersecurity measures include using strong passwords, encrypting data, and implementing multi-factor authentication. Awareness and education about cyber risks are essential for preventing attacks. Governments and businesses must invest in robust cybersecurity infrastructure to safeguard against breaches. As technology advances, so do the tactics of cybercriminals. Continuous vigilance and proactive strategies are necessary to protect digital assets and ensure the security of information systems.\", 'file_id': 799420906, 'name': 'Amaan', 'filename': 'data12.txt'}, Cosine Similarity: None\n",
            "Item properties: {'content': 'Technology has significantly impacted education, transforming traditional learning methods. Digital tools, online resources, and virtual classrooms have made education more accessible and interactive. Students can now access a wealth of information and collaborate with peers worldwide. Technology enhances personalized learning, allowing students to progress at their own pace. However, it also presents challenges, such as ensuring digital equity and managing screen time. Teachers must adapt to new teaching methods and integrate technology effectively. As technology continues to evolve, its role in education will expand, offering new opportunities for enhancing learning experiences.\\n', 'file_id': 624085277, 'name': 'Huzan', 'filename': 'data11.txt'}, Cosine Similarity: None\n",
            "Item properties: {'content': 'Art plays a vital role in society, reflecting culture, history, and human experiences. It serves as a medium for expression, creativity, and communication. Art can inspire, provoke thought, and evoke emotions, offering new perspectives on the world. It also fosters social cohesion and cultural understanding. Public art, museums, and galleries make art accessible to a broader audience, enriching communities. Art education encourages creativity and critical thinking. In a rapidly changing world, art remains a constant, connecting people across different backgrounds and promoting a shared sense of humanity.\\n', 'file_id': 955084061, 'name': 'Huzan', 'filename': 'data13.txt'}, Cosine Similarity: None\n",
            "Item properties: {'content': 'Biodiversity is essential for maintaining ecosystem balance and resilience. It encompasses the variety of life forms on Earth, from microorganisms to plants and animals. Healthy ecosystems provide vital services, such as pollination, water purification, and climate regulation. Biodiversity also supports food security and human health. However, human activities, such as deforestation, pollution, and climate change, threaten biodiversity. Conservation efforts, including protected areas and sustainable practices, are crucial for preserving biodiversity. Maintaining diverse ecosystems ensures the stability and functionality of the natural world, benefiting all living organisms.\\n\\n', 'file_id': 923760653, 'name': 'Huzan', 'filename': 'data14.txt'}, Cosine Similarity: None\n",
            "Item properties: {'content': 'Medical technology has seen remarkable advancements in recent years, improving diagnosis, treatment, and patient care. Innovations such as telemedicine, robotic surgery, and personalized medicine are transforming healthcare. Telemedicine has expanded access to healthcare, especially in remote areas, while robotic surgery offers precision and minimally invasive options. Personalized medicine tailors treatments to individual genetic profiles, enhancing efficacy and reducing side effects. Additionally, wearable devices and health apps enable continuous monitoring of health metrics. These technological advancements are revolutionizing the healthcare industry, making it more efficient, effective, and patient-centered.\\n', 'file_id': 589436211, 'name': 'Huzan', 'filename': 'data3.txt'}, Cosine Similarity: None\n",
            "Item properties: {'content': 'Physical exercise is essential for maintaining overall health and well-being. Regular activity improves cardiovascular health, strengthens muscles, and enhances flexibility. It also boosts mental health by reducing stress, anxiety, and depression. Exercise releases endorphins, which contribute to a sense of happiness and well-being. Different types of exercise, such as aerobic, strength training, and flexibility exercises, offer various benefits. Incorporating physical activity into daily routines can lead to long-term health improvements and a higher quality of life. Encouraging an active lifestyle from a young age can foster lifelong habits that promote health and wellness.\\n', 'file_id': 329172251, 'name': 'Umair', 'filename': 'data10.txt'}, Cosine Similarity: None\n",
            "Item properties: {'content': 'E-commerce has revolutionized the retail industry, offering convenience and accessibility to consumers. The rise of online shopping platforms like Amazon and Alibaba has transformed buying habits. Consumers can now shop from the comfort of their homes, with products delivered directly to their doorsteps. The integration of advanced technologies, such as artificial intelligence and data analytics, has enhanced the shopping experience through personalized recommendations and efficient logistics. E-commerce businesses must adapt to changing consumer preferences, ensuring security and reliability. As technology continues to advance, e-commerce will play an increasingly significant role in the global economy.', 'file_id': 223363074, 'name': 'Umair', 'filename': 'data8.txt'}, Cosine Similarity: None\n",
            "Item properties: {'content': 'Artificial intelligence (AI) has evolved rapidly since its inception. Early AI focused on simple tasks and rule-based systems, but advancements in machine learning and neural networks have transformed it. Today, AI can recognize speech, drive cars, and even create art. These advancements are driven by increased computational power, vast data availability, and sophisticated algorithms. As AI continues to evolve, ethical considerations and the potential for widespread societal impact are at the forefront of discussions. The future promises even more integration of AI into daily life, potentially revolutionizing industries and the way we interact with technology.\\n', 'file_id': 68303731, 'name': 'Umair', 'filename': 'data.txt'}, Cosine Similarity: None\n",
            "Item properties: {'content': 'Social media has profoundly impacted society, changing how people communicate, access information, and perceive the world. Platforms like Facebook, Twitter, and Instagram connect individuals across the globe, allowing for instant sharing of ideas and experiences. However, social media also has negative effects, including the spread of misinformation, cyberbullying, and addiction. It influences public opinion, political landscapes, and even mental health. Balancing the benefits and drawbacks of social media is essential. Users must be critical of the information they consume, and platforms need to implement measures to combat harmful content while fostering positive interactions.\\n', 'file_id': 904676878, 'name': 'Umair', 'filename': 'data4.txt'}, Cosine Similarity: None\n",
            "Item properties: {'content': 'Space exploration has entered a new era with advancements in technology and increasing involvement from private companies. Missions to Mars, lunar exploration, and the search for extraterrestrial life are at the forefront of this exciting frontier. Companies like SpaceX and Blue Origin are developing reusable rockets, significantly reducing the cost of space travel. The potential for mining asteroids and establishing colonies on other planets is being explored. Collaboration between government agencies and private enterprises is driving innovation. The future of space exploration holds the promise of scientific discoveries, economic opportunities, and the possibility of expanding human presence beyond Earth.\\n\\n', 'file_id': 579357924, 'name': 'Waleed', 'filename': 'data6.txt'}, Cosine Similarity: None\n",
            "Item properties: {'content': 'Mental health awareness is critical for promoting well-being and reducing stigma. Mental health issues, such as depression, anxiety, and stress, affect millions of people worldwide. Raising awareness helps individuals recognize symptoms and seek help. It also encourages supportive environments where people feel comfortable discussing their struggles. Mental health education in schools, workplaces, and communities plays a vital role. Access to mental health services, including counseling and therapy, is essential. Reducing stigma and promoting open conversations about mental health can lead to better outcomes and improved quality of life for those affected.', 'file_id': 69624098, 'name': 'Waleed', 'filename': 'data7.txt'}, Cosine Similarity: None\n",
            "Item properties: {'content': 'Education is a cornerstone of society, shaping individuals and communities. It provides knowledge, skills, and values essential for personal development and societal progress. Quality education promotes critical thinking, creativity, and problem-solving abilities. It also fosters social cohesion, equality, and economic growth. Access to education is a fundamental right, and efforts to improve educational systems worldwide are ongoing. Challenges include addressing disparities, integrating technology, and preparing students for future job markets. Lifelong learning and continuous education are becoming increasingly important in a rapidly changing world, ensuring individuals remain adaptable and capable.\\n\\n', 'file_id': 306053457, 'name': 'Waleed', 'filename': 'data9.txt'}, Cosine Similarity: None\n",
            "Item properties: {'content': 'Renewable energy sources, such as solar, wind, and hydropower, are crucial in addressing the global energy crisis and reducing carbon emissions. Solar power harnesses energy from the sun, providing a sustainable and abundant resource. Wind turbines convert wind energy into electricity, and hydropower utilizes flowing water to generate power. These renewable sources are increasingly cost-effective and scalable. Governments and businesses are investing in renewable energy infrastructure to transition away from fossil fuels. Innovations in energy storage and smart grids further enhance the viability of renewables. Embracing renewable energy is essential for a sustainable and environmentally friendly future.\\n\\n', 'file_id': 234740196, 'name': 'Waleed', 'filename': 'data5.txt'}, Cosine Similarity: None\n",
            "[<Record props={'content': 'The COVID-19 pandemic accelerated the adoption of remote work, transforming the traditional workplace. Companies and employees have discovered the benefits of flexibility, reduced commute times, and the ability to work from anywhere. However, remote work also presents challenges, such as maintaining productivity, ensuring cybersecurity, and managing work-life balance. Organizations are now exploring hybrid models that combine remote and in-office work. As technology continues to improve, remote work is likely to remain a significant component of the modern work environment, offering both opportunities and challenges for businesses and employees alike.', 'file_id': 478708217, 'name': 'Amaan', 'filename': 'data2.txt'} score=None>, <Record props={'content': 'The future of transportation is being shaped by technological advancements and the need for sustainable solutions. Electric vehicles (EVs) are gaining popularity as they reduce emissions and dependence on fossil fuels. Autonomous vehicles promise to enhance safety and efficiency on roads. Innovations in public transportation, such as high-speed trains and smart transit systems, aim to reduce congestion and environmental impact. The development of urban air mobility, including drones and air taxis, could revolutionize short-distance travel. Sustainable transportation solutions are essential for addressing climate change and improving the quality of life in urban areas.', 'file_id': 664475849, 'name': 'Amaan', 'filename': 'data15.txt'} score=None>, <Record props={'content': 'Climate change is one of the most pressing global issues today. Rising temperatures, melting ice caps, and more frequent extreme weather events are just a few manifestations. These changes threaten biodiversity, food security, and human health. Coastal areas are particularly vulnerable to sea-level rise, and small island nations face existential threats. Addressing climate change requires international cooperation, reduction of greenhouse gas emissions, and adaptation strategies. Renewable energy sources, reforestation, and sustainable practices are critical in mitigating its impacts. The urgency of the situation calls for immediate and sustained action from all sectors of society.\\n', 'file_id': 913707013, 'name': 'Amaan', 'filename': 'data1.txt'} score=None>, <Record props={'content': \"In today's digital age, cybersecurity is crucial for protecting sensitive information and maintaining privacy. Cyber threats, such as hacking, phishing, and malware, pose significant risks to individuals and organizations. Effective cybersecurity measures include using strong passwords, encrypting data, and implementing multi-factor authentication. Awareness and education about cyber risks are essential for preventing attacks. Governments and businesses must invest in robust cybersecurity infrastructure to safeguard against breaches. As technology advances, so do the tactics of cybercriminals. Continuous vigilance and proactive strategies are necessary to protect digital assets and ensure the security of information systems.\", 'file_id': 799420906, 'name': 'Amaan', 'filename': 'data12.txt'} score=None>, <Record props={'content': 'Technology has significantly impacted education, transforming traditional learning methods. Digital tools, online resources, and virtual classrooms have made education more accessible and interactive. Students can now access a wealth of information and collaborate with peers worldwide. Technology enhances personalized learning, allowing students to progress at their own pace. However, it also presents challenges, such as ensuring digital equity and managing screen time. Teachers must adapt to new teaching methods and integrate technology effectively. As technology continues to evolve, its role in education will expand, offering new opportunities for enhancing learning experiences.\\n', 'file_id': 624085277, 'name': 'Huzan', 'filename': 'data11.txt'} score=None>, <Record props={'content': 'Art plays a vital role in society, reflecting culture, history, and human experiences. It serves as a medium for expression, creativity, and communication. Art can inspire, provoke thought, and evoke emotions, offering new perspectives on the world. It also fosters social cohesion and cultural understanding. Public art, museums, and galleries make art accessible to a broader audience, enriching communities. Art education encourages creativity and critical thinking. In a rapidly changing world, art remains a constant, connecting people across different backgrounds and promoting a shared sense of humanity.\\n', 'file_id': 955084061, 'name': 'Huzan', 'filename': 'data13.txt'} score=None>, <Record props={'content': 'Biodiversity is essential for maintaining ecosystem balance and resilience. It encompasses the variety of life forms on Earth, from microorganisms to plants and animals. Healthy ecosystems provide vital services, such as pollination, water purification, and climate regulation. Biodiversity also supports food security and human health. However, human activities, such as deforestation, pollution, and climate change, threaten biodiversity. Conservation efforts, including protected areas and sustainable practices, are crucial for preserving biodiversity. Maintaining diverse ecosystems ensures the stability and functionality of the natural world, benefiting all living organisms.\\n\\n', 'file_id': 923760653, 'name': 'Huzan', 'filename': 'data14.txt'} score=None>, <Record props={'content': 'Medical technology has seen remarkable advancements in recent years, improving diagnosis, treatment, and patient care. Innovations such as telemedicine, robotic surgery, and personalized medicine are transforming healthcare. Telemedicine has expanded access to healthcare, especially in remote areas, while robotic surgery offers precision and minimally invasive options. Personalized medicine tailors treatments to individual genetic profiles, enhancing efficacy and reducing side effects. Additionally, wearable devices and health apps enable continuous monitoring of health metrics. These technological advancements are revolutionizing the healthcare industry, making it more efficient, effective, and patient-centered.\\n', 'file_id': 589436211, 'name': 'Huzan', 'filename': 'data3.txt'} score=None>, <Record props={'content': 'Physical exercise is essential for maintaining overall health and well-being. Regular activity improves cardiovascular health, strengthens muscles, and enhances flexibility. It also boosts mental health by reducing stress, anxiety, and depression. Exercise releases endorphins, which contribute to a sense of happiness and well-being. Different types of exercise, such as aerobic, strength training, and flexibility exercises, offer various benefits. Incorporating physical activity into daily routines can lead to long-term health improvements and a higher quality of life. Encouraging an active lifestyle from a young age can foster lifelong habits that promote health and wellness.\\n', 'file_id': 329172251, 'name': 'Umair', 'filename': 'data10.txt'} score=None>, <Record props={'content': 'E-commerce has revolutionized the retail industry, offering convenience and accessibility to consumers. The rise of online shopping platforms like Amazon and Alibaba has transformed buying habits. Consumers can now shop from the comfort of their homes, with products delivered directly to their doorsteps. The integration of advanced technologies, such as artificial intelligence and data analytics, has enhanced the shopping experience through personalized recommendations and efficient logistics. E-commerce businesses must adapt to changing consumer preferences, ensuring security and reliability. As technology continues to advance, e-commerce will play an increasingly significant role in the global economy.', 'file_id': 223363074, 'name': 'Umair', 'filename': 'data8.txt'} score=None>, <Record props={'content': 'Artificial intelligence (AI) has evolved rapidly since its inception. Early AI focused on simple tasks and rule-based systems, but advancements in machine learning and neural networks have transformed it. Today, AI can recognize speech, drive cars, and even create art. These advancements are driven by increased computational power, vast data availability, and sophisticated algorithms. As AI continues to evolve, ethical considerations and the potential for widespread societal impact are at the forefront of discussions. The future promises even more integration of AI into daily life, potentially revolutionizing industries and the way we interact with technology.\\n', 'file_id': 68303731, 'name': 'Umair', 'filename': 'data.txt'} score=None>, <Record props={'content': 'Social media has profoundly impacted society, changing how people communicate, access information, and perceive the world. Platforms like Facebook, Twitter, and Instagram connect individuals across the globe, allowing for instant sharing of ideas and experiences. However, social media also has negative effects, including the spread of misinformation, cyberbullying, and addiction. It influences public opinion, political landscapes, and even mental health. Balancing the benefits and drawbacks of social media is essential. Users must be critical of the information they consume, and platforms need to implement measures to combat harmful content while fostering positive interactions.\\n', 'file_id': 904676878, 'name': 'Umair', 'filename': 'data4.txt'} score=None>, <Record props={'content': 'Space exploration has entered a new era with advancements in technology and increasing involvement from private companies. Missions to Mars, lunar exploration, and the search for extraterrestrial life are at the forefront of this exciting frontier. Companies like SpaceX and Blue Origin are developing reusable rockets, significantly reducing the cost of space travel. The potential for mining asteroids and establishing colonies on other planets is being explored. Collaboration between government agencies and private enterprises is driving innovation. The future of space exploration holds the promise of scientific discoveries, economic opportunities, and the possibility of expanding human presence beyond Earth.\\n\\n', 'file_id': 579357924, 'name': 'Waleed', 'filename': 'data6.txt'} score=None>, <Record props={'content': 'Mental health awareness is critical for promoting well-being and reducing stigma. Mental health issues, such as depression, anxiety, and stress, affect millions of people worldwide. Raising awareness helps individuals recognize symptoms and seek help. It also encourages supportive environments where people feel comfortable discussing their struggles. Mental health education in schools, workplaces, and communities plays a vital role. Access to mental health services, including counseling and therapy, is essential. Reducing stigma and promoting open conversations about mental health can lead to better outcomes and improved quality of life for those affected.', 'file_id': 69624098, 'name': 'Waleed', 'filename': 'data7.txt'} score=None>, <Record props={'content': 'Education is a cornerstone of society, shaping individuals and communities. It provides knowledge, skills, and values essential for personal development and societal progress. Quality education promotes critical thinking, creativity, and problem-solving abilities. It also fosters social cohesion, equality, and economic growth. Access to education is a fundamental right, and efforts to improve educational systems worldwide are ongoing. Challenges include addressing disparities, integrating technology, and preparing students for future job markets. Lifelong learning and continuous education are becoming increasingly important in a rapidly changing world, ensuring individuals remain adaptable and capable.\\n\\n', 'file_id': 306053457, 'name': 'Waleed', 'filename': 'data9.txt'} score=None>, <Record props={'content': 'Renewable energy sources, such as solar, wind, and hydropower, are crucial in addressing the global energy crisis and reducing carbon emissions. Solar power harnesses energy from the sun, providing a sustainable and abundant resource. Wind turbines convert wind energy into electricity, and hydropower utilizes flowing water to generate power. These renewable sources are increasingly cost-effective and scalable. Governments and businesses are investing in renewable energy infrastructure to transition away from fossil fuels. Innovations in energy storage and smart grids further enhance the viability of renewables. Embracing renewable energy is essential for a sustainable and environmentally friendly future.\\n\\n', 'file_id': 234740196, 'name': 'Waleed', 'filename': 'data5.txt'} score=None>]\n"
          ]
        }
      ],
      "source": [
        "def vector_similarity_search(tx, query_vector):\n",
        "    result = tx.run(\"\"\"\n",
        "        MATCH (c:File)\n",
        "        WHERE c.content IS NOT NULL\n",
        "        WITH c, properties(c) AS props, vector.similarity.cosine(c.vector, $query_vector) AS score\n",
        "        RETURN props, score\n",
        "        ORDER BY score DESCENDING\n",
        "        LIMIT 20\n",
        "    \"\"\", query_vector=query_vector)\n",
        "    return list(result)\n",
        "\n",
        "def perform_similarity_search(driver, query_vector):\n",
        "    with driver.session() as session:\n",
        "        similar_items = session.execute_read(vector_similarity_search, query_vector)\n",
        "        for item in similar_items:\n",
        "            print(f\"Item properties: {item['props']}, Cosine Similarity: {item['score']}\")\n",
        "    return similar_items\n",
        "\n",
        "perform_similarity_search(driver, query_vector)\n"
      ]
    }
  ],
  "metadata": {
    "kernelspec": {
      "display_name": "Python 3",
      "language": "python",
      "name": "python3"
    },
    "language_info": {
      "codemirror_mode": {
        "name": "ipython",
        "version": 3
      },
      "file_extension": ".py",
      "mimetype": "text/x-python",
      "name": "python",
      "nbconvert_exporter": "python",
      "pygments_lexer": "ipython3",
      "version": "3.11.9"
    },
    "colab": {
      "provenance": []
    }
  },
  "nbformat": 4,
  "nbformat_minor": 0
}